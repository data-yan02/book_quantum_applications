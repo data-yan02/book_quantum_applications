{
 "cells": [
  {
   "cell_type": "code",
   "execution_count": 1,
   "id": "da97b269-f46a-4d1f-84d6-e57876726339",
   "metadata": {
    "tags": []
   },
   "outputs": [
    {
     "name": "stderr",
     "output_type": "stream",
     "text": [
      "qiskit_runtime_service.__init__:INFO:2024-02-16 05:58:56,104: Default instance: ibm-q/open/main\n"
     ]
    }
   ],
   "source": [
    "# Importing standard Qiskit libraries\n",
    "from qiskit import QuantumCircuit, transpile\n",
    "from qiskit.tools.jupyter import *\n",
    "from qiskit.visualization import *\n",
    "from ibm_quantum_widgets import *\n",
    "\n",
    "# qiskit-ibmq-provider has been deprecated.\n",
    "# Please see the Migration Guides in https://ibm.biz/provider_migration_guide for more detail.\n",
    "from qiskit_ibm_runtime import QiskitRuntimeService, Sampler, Estimator, Session, Options\n",
    "\n",
    "# Loading your IBM Quantum account(s)\n",
    "service = QiskitRuntimeService(channel=\"ibm_quantum\")\n",
    "\n",
    "# Invoke a primitive. For more details see https://docs.quantum.ibm.com/run/primitives\n",
    "# result = Sampler().run(circuits).result()"
   ]
  },
  {
   "cell_type": "code",
   "execution_count": 2,
   "id": "8b53f0d6-2c5e-4c2d-ab3f-cdbcde3aec7f",
   "metadata": {
    "tags": []
   },
   "outputs": [],
   "source": [
    "# Importing standard Qiskit libraries\n",
    "import numpy as np\n",
    "from qiskit import QuantumCircuit\n",
    "from qiskit.quantum_info import SparsePauliOp\n",
    "from qiskit.circuit import Parameter\n",
    "from qiskit_aer.primitives import Estimator\n",
    "from qiskit_algorithms import VQE\n",
    "from qiskit_algorithms.optimizers import SLSQP\n",
    "from qiskit.opflow.primitive_ops import PauliSumOp"
   ]
  },
  {
   "cell_type": "code",
   "execution_count": 3,
   "id": "f6696fa4-62a1-4caf-8b94-6f7190c3a749",
   "metadata": {
    "tags": []
   },
   "outputs": [
    {
     "name": "stdout",
     "output_type": "stream",
     "text": [
      "1.0 * Z\n"
     ]
    }
   ],
   "source": [
    "paulis = ['Z']\n",
    "weights = [1]\n",
    "pauli_op = [([pauli,weight]) for pauli,weight in zip(paulis,weights)]\n",
    "hamiltonian1 = PauliSumOp.from_list([ op for op in pauli_op ])\n",
    "print(hamiltonian1)"
   ]
  },
  {
   "cell_type": "code",
   "execution_count": 4,
   "id": "b6e570ca-7753-42d1-9ddc-837c57ebe26f",
   "metadata": {
    "tags": []
   },
   "outputs": [
    {
     "data": {
      "image/png": "[encoded data removed]",
      "text/plain": [
       "<Figure size 185.453x200.667 with 1 Axes>"
      ]
     },
     "execution_count": 4,
     "metadata": {},
     "output_type": "execute_result"
    }
   ],
   "source": [
    "theta = Parameter('theta')\n",
    "ansatz_1 = QuantumCircuit(1, 1)\n",
    "ansatz_1.rx(theta, 0)\n",
    "ansatz_1.draw(style='clifford')"
   ]
  },
  {
   "cell_type": "code",
   "execution_count": 5,
   "id": "35897541-2de3-42cd-8de5-98b20e446815",
   "metadata": {
    "tags": []
   },
   "outputs": [
    {
     "name": "stdout",
     "output_type": "stream",
     "text": [
      "VQE Result of H=Z :  -0.9999999999894565\n"
     ]
    }
   ],
   "source": [
    "vqe_solver=VQE(estimator=Estimator(approximation=True), \n",
    "               ansatz=ansatz_1, optimizer=SLSQP(maxiter=100))\n",
    "result_vqe = vqe_solver.compute_minimum_eigenvalue(operator=hamiltonian1) \n",
    "vqe_res1 = result_vqe.optimal_value\n",
    "print('VQE Result of H=Z : ', vqe_res1)"
   ]
  },
  {
   "cell_type": "code",
   "execution_count": 6,
   "id": "f6cb365b-d7ab-492f-8dd6-bdde5c47af79",
   "metadata": {
    "tags": []
   },
   "outputs": [],
   "source": [
    "import numpy as np\n",
    "from qiskit import QuantumCircuit\n",
    "from qiskit.quantum_info import SparsePauliOp\n",
    "from qiskit.circuit import Parameter\n",
    "from qiskit_aer.primitives import Estimator\n",
    "from qiskit_algorithms import VQE\n",
    "from qiskit_algorithms.optimizers import SLSQP\n",
    "from qiskit.opflow.primitive_ops import PauliSumOp"
   ]
  },
  {
   "cell_type": "code",
   "execution_count": 7,
   "id": "f2789847-ac06-4087-a4df-df63080b8ab4",
   "metadata": {
    "tags": []
   },
   "outputs": [
    {
     "name": "stdout",
     "output_type": "stream",
     "text": [
      "3.0 * Z\n",
      "+ 2.0 * X\n",
      "+ 2.0 * I\n"
     ]
    }
   ],
   "source": [
    "paulis = ['Z','X','I']\n",
    "weights = [3,2,2]\n",
    "pauli_op = [([pauli,weight]) for pauli,weight in zip(paulis,weights)]\n",
    "hamiltonian2 = PauliSumOp.from_list([ op for op in pauli_op ])\n",
    "print(hamiltonian2)"
   ]
  },
  {
   "cell_type": "code",
   "execution_count": 8,
   "id": "3cd4f69d-9242-4a91-8f28-74fe6d3bb7b4",
   "metadata": {
    "tags": []
   },
   "outputs": [
    {
     "data": {
      "image/png": "[encoded data removed]",
      "text/plain": [
       "<Figure size 269.064x200.667 with 1 Axes>"
      ]
     },
     "execution_count": 8,
     "metadata": {},
     "output_type": "execute_result"
    }
   ],
   "source": [
    "theta = Parameter('theta')\n",
    "ansatz_2 = QuantumCircuit(1, 1)\n",
    "ansatz_2.ry(theta, 0)\n",
    "ansatz_2.ry(-np.pi/2, 0)\n",
    "ansatz_2.draw(style='clifford')"
   ]
  },
  {
   "cell_type": "code",
   "execution_count": 9,
   "id": "ffd1905d-5dda-47fd-9a95-188237c454fb",
   "metadata": {
    "tags": []
   },
   "outputs": [
    {
     "name": "stdout",
     "output_type": "stream",
     "text": [
      "VQE Result of H=3Z + 2X + 2I:  -1.6055512740263804\n"
     ]
    }
   ],
   "source": [
    "vqe_solver=VQE(estimator=Estimator(approximation=True), \n",
    "               ansatz=ansatz_2, optimizer=SLSQP(maxiter=100))\n",
    "result_vqe = vqe_solver.compute_minimum_eigenvalue(operator=hamiltonian2) \n",
    "vqe_res1 = result_vqe.optimal_value\n",
    "print('VQE Result of H=3Z + 2X + 2I: ', vqe_res1)"
   ]
  },
  {
   "cell_type": "code",
   "execution_count": null,
   "id": "9ecbdb05-3d50-46f9-9507-af2c075fb366",
   "metadata": {},
   "outputs": [],
   "source": []
  }
 ],
 "metadata": {
  "kernelspec": {
   "display_name": "Qiskit v0.45.3 (ipykernel)",
   "language": "python",
   "name": "python3"
  },
  "language_info": {
   "codemirror_mode": {
    "name": "ipython",
    "version": 3
   },
   "file_extension": ".py",
   "mimetype": "text/x-python",
   "name": "python",
   "nbconvert_exporter": "python",
   "pygments_lexer": "ipython3",
   "version": "3.10.8"
  },
  "widgets": {
   "application/vnd.jupyter.widget-state+json": {
    "state": {
     "096398311acc42f1a4f0c41a55e3b9f6": {
      "model_module": "@jupyter-widgets/controls",
      "model_module_version": "2.0.0",
      "model_name": "ButtonStyleModel",
      "state": {
       "font_family": null,
       "font_size": null,
       "font_style": null,
       "font_variant": null,
       "font_weight": null,
       "text_color": null,
       "text_decoration": null
      }
     },
     "11fd26672c7f467aba36dd27dc5ff766": {
      "model_module": "@jupyter-widgets/base",
      "model_module_version": "2.0.0",
      "model_name": "LayoutModel",
      "state": {
       "width": "95px"
      }
     },
     "1e61c874653e48d098dba83a09d45a71": {
      "model_module": "@jupyter-widgets/controls",
      "model_module_version": "2.0.0",
      "model_name": "HTMLModel",
      "state": {
       "layout": "IPY_MODEL_d1eae807dbbf4badb3794827be5fa179",
       "style": "IPY_MODEL_3c47544e4181456693d6a85fa3103c3a",
       "value": "<h5>Queue</h5>"
      }
     },
     "28246dca540f48c5a66e519fa963b5cc": {
      "model_module": "@jupyter-widgets/controls",
      "model_module_version": "2.0.0",
      "model_name": "HTMLModel",
      "state": {
       "layout": "IPY_MODEL_7ef2a026e5244a55bacfae3707b5a2a3",
       "style": "IPY_MODEL_b50211c893cc4908ba8c13f0900aa6ad",
       "value": "<p style='font-family: IBM Plex Sans, Arial, Helvetica, sans-serif; font-size: 20px; font-weight: medium;'>Circuit Properties</p>"
      }
     },
     "2d405b7f5c5c456a8871fd0c2df074ae": {
      "model_module": "@jupyter-widgets/controls",
      "model_module_version": "2.0.0",
      "model_name": "HTMLModel",
      "state": {
       "layout": "IPY_MODEL_2eeb7afc51924f4ea224e15f62c9a5dc",
       "style": "IPY_MODEL_c3e6fc205eed41c5a6ff239c7d78aae8",
       "value": "<h5>Backend</h5>"
      }
     },
     "2eeb7afc51924f4ea224e15f62c9a5dc": {
      "model_module": "@jupyter-widgets/base",
      "model_module_version": "2.0.0",
      "model_name": "LayoutModel",
      "state": {
       "width": "145px"
      }
     },
     "3c47544e4181456693d6a85fa3103c3a": {
      "model_module": "@jupyter-widgets/controls",
      "model_module_version": "2.0.0",
      "model_name": "HTMLStyleModel",
      "state": {
       "description_width": "",
       "font_size": null,
       "text_color": null
      }
     },
     "49942ee345d742128c7da3808ef97e18": {
      "model_module": "@jupyter-widgets/base",
      "model_module_version": "2.0.0",
      "model_name": "LayoutModel",
      "state": {}
     },
     "4df74856aa07458491da2a5dabca703a": {
      "model_module": "@jupyter-widgets/controls",
      "model_module_version": "2.0.0",
      "model_name": "HTMLStyleModel",
      "state": {
       "description_width": "",
       "font_size": null,
       "text_color": null
      }
     },
     "5e6d50a35230451bacd26685fa59b361": {
      "model_module": "@jupyter-widgets/controls",
      "model_module_version": "2.0.0",
      "model_name": "ButtonModel",
      "state": {
       "button_style": "primary",
       "description": "Clear",
       "layout": "IPY_MODEL_ce7898d2b0144afb95e12f18aed0abbb",
       "style": "IPY_MODEL_096398311acc42f1a4f0c41a55e3b9f6",
       "tooltip": null
      }
     },
     "6daa677d5f36429594eea6cbe6174715": {
      "model_module": "@jupyter-widgets/controls",
      "model_module_version": "2.0.0",
      "model_name": "GridBoxModel",
      "state": {
       "children": [
        "IPY_MODEL_5e6d50a35230451bacd26685fa59b361"
       ],
       "layout": "IPY_MODEL_a7c9b232323a4a1bbc5a53f2232635ed"
      }
     },
     "7ef2a026e5244a55bacfae3707b5a2a3": {
      "model_module": "@jupyter-widgets/base",
      "model_module_version": "2.0.0",
      "model_name": "LayoutModel",
      "state": {
       "margin": "0px 0px 10px 0px"
      }
     },
     "a3233ed36e784726b64fd105f249b500": {
      "model_module": "@jupyter-widgets/controls",
      "model_module_version": "2.0.0",
      "model_name": "HBoxModel",
      "state": {
       "children": [
        "IPY_MODEL_df069dde5d2d46f28116dd4933f864e5",
        "IPY_MODEL_2d405b7f5c5c456a8871fd0c2df074ae",
        "IPY_MODEL_e8884a733c8e46aebb2b671b95358427",
        "IPY_MODEL_1e61c874653e48d098dba83a09d45a71",
        "IPY_MODEL_c5d77072587c457180c146865ee7982d"
       ],
       "layout": "IPY_MODEL_eca89af6053f48cd9987a882fa91397a"
      }
     },
     "a7c9b232323a4a1bbc5a53f2232635ed": {
      "model_module": "@jupyter-widgets/base",
      "model_module_version": "2.0.0",
      "model_name": "LayoutModel",
      "state": {
       "grid_template_areas": "\n                                       \". . . . right \"\n                                        ",
       "grid_template_columns": "20% 20% 20% 20% 20%",
       "width": "100%"
      }
     },
     "b50211c893cc4908ba8c13f0900aa6ad": {
      "model_module": "@jupyter-widgets/controls",
      "model_module_version": "2.0.0",
      "model_name": "HTMLStyleModel",
      "state": {
       "description_width": "",
       "font_size": null,
       "text_color": null
      }
     },
     "ba8927472eae4882aee8a6de5f8840dd": {
      "model_module": "@jupyter-widgets/controls",
      "model_module_version": "2.0.0",
      "model_name": "HTMLStyleModel",
      "state": {
       "description_width": "",
       "font_size": null,
       "text_color": null
      }
     },
     "c3e6fc205eed41c5a6ff239c7d78aae8": {
      "model_module": "@jupyter-widgets/controls",
      "model_module_version": "2.0.0",
      "model_name": "HTMLStyleModel",
      "state": {
       "description_width": "",
       "font_size": null,
       "text_color": null
      }
     },
     "c5d77072587c457180c146865ee7982d": {
      "model_module": "@jupyter-widgets/controls",
      "model_module_version": "2.0.0",
      "model_name": "HTMLModel",
      "state": {
       "layout": "IPY_MODEL_49942ee345d742128c7da3808ef97e18",
       "style": "IPY_MODEL_d67a25dec8a547f99d3c28857a626b99",
       "value": "<h5>Message</h5>"
      }
     },
     "ce7898d2b0144afb95e12f18aed0abbb": {
      "model_module": "@jupyter-widgets/base",
      "model_module_version": "2.0.0",
      "model_name": "LayoutModel",
      "state": {
       "grid_area": "right",
       "padding": "0px 0px 0px 0px",
       "width": "70px"
      }
     },
     "d1eae807dbbf4badb3794827be5fa179": {
      "model_module": "@jupyter-widgets/base",
      "model_module_version": "2.0.0",
      "model_name": "LayoutModel",
      "state": {
       "width": "70px"
      }
     },
     "d67a25dec8a547f99d3c28857a626b99": {
      "model_module": "@jupyter-widgets/controls",
      "model_module_version": "2.0.0",
      "model_name": "HTMLStyleModel",
      "state": {
       "description_width": "",
       "font_size": null,
       "text_color": null
      }
     },
     "df069dde5d2d46f28116dd4933f864e5": {
      "model_module": "@jupyter-widgets/controls",
      "model_module_version": "2.0.0",
      "model_name": "HTMLModel",
      "state": {
       "layout": "IPY_MODEL_ec0bb0db6ae24f52bfb2abec3f5899cd",
       "style": "IPY_MODEL_ba8927472eae4882aee8a6de5f8840dd",
       "value": "<h5>Job ID</h5>"
      }
     },
     "e8884a733c8e46aebb2b671b95358427": {
      "model_module": "@jupyter-widgets/controls",
      "model_module_version": "2.0.0",
      "model_name": "HTMLModel",
      "state": {
       "layout": "IPY_MODEL_11fd26672c7f467aba36dd27dc5ff766",
       "style": "IPY_MODEL_4df74856aa07458491da2a5dabca703a",
       "value": "<h5>Status</h5>"
      }
     },
     "ec0bb0db6ae24f52bfb2abec3f5899cd": {
      "model_module": "@jupyter-widgets/base",
      "model_module_version": "2.0.0",
      "model_name": "LayoutModel",
      "state": {
       "width": "190px"
      }
     },
     "eca89af6053f48cd9987a882fa91397a": {
      "model_module": "@jupyter-widgets/base",
      "model_module_version": "2.0.0",
      "model_name": "LayoutModel",
      "state": {
       "margin": "0px 0px 0px 37px",
       "width": "600px"
      }
     }
    },
    "version_major": 2,
    "version_minor": 0
   }
  }
 },
 "nbformat": 4,
 "nbformat_minor": 5
}
